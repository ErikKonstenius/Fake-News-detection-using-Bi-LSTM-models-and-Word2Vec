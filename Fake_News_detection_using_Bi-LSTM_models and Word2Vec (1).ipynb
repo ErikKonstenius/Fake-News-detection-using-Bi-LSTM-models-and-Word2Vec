{
 "cells": [
  {
   "cell_type": "markdown",
   "id": "3d792c21",
   "metadata": {},
   "source": [
    "# Fake news detection using LSTM model and Word2Vec"
   ]
  },
  {
   "cell_type": "code",
   "execution_count": 1,
   "id": "d3bad39a",
   "metadata": {
    "collapsed": true
   },
   "outputs": [
    {
     "name": "stderr",
     "output_type": "stream",
     "text": [
      "[nltk_data] Downloading package stopwords to\n",
      "[nltk_data]     /Users/erikkonstenius/nltk_data...\n",
      "[nltk_data]   Package stopwords is already up-to-date!\n"
     ]
    },
    {
     "data": {
      "text/plain": [
       "True"
      ]
     },
     "execution_count": 1,
     "metadata": {},
     "output_type": "execute_result"
    }
   ],
   "source": [
    "# Other\n",
    "import numpy as np\n",
    "import pandas as pd\n",
    "import matplotlib.pyplot as plt\n",
    "import os\n",
    "import sys\n",
    "import re\n",
    "import gensim\n",
    "from collections import Counter\n",
    "\n",
    "#Sklearn\n",
    "import sklearn\n",
    "from sklearn.metrics import classification_report, accuracy_score, precision_recall_curve, roc_curve, auc\n",
    "from sklearn.model_selection import train_test_split\n",
    "\n",
    "# Tensorflow\n",
    "import tensorflow as tf\n",
    "from tensorflow import keras\n",
    "from tensorflow.keras.preprocessing.text import Tokenizer\n",
    "from tensorflow.keras.preprocessing import sequence\n",
    "from tensorflow.keras.preprocessing.sequence import pad_sequences\n",
    "from tensorflow.keras.models import Sequential\n",
    "from tensorflow.keras.layers import Input, Embedding, LSTM, Dropout, Dense, Bidirectional\n",
    "\n",
    "# NLTK\n",
    "import nltk\n",
    "from nltk.corpus import stopwords\n",
    "from nltk.tokenize import word_tokenize\n",
    "nltk.download('stopwords')"
   ]
  },
  {
   "cell_type": "code",
   "execution_count": 2,
   "id": "3fc89419",
   "metadata": {},
   "outputs": [],
   "source": [
    "#fake = pd.read_csv(r\"C:\\Users\\Erik Konstenius\\Downloads\\Fake.csv\")\n",
    "#true = pd.read_csv(r\"C:\\Users\\Erik Konstenius\\Downloads\\True.csv\")\n",
    "\n",
    "fake = pd.read_csv(r\"/Users/erikkonstenius/Downloads/Fake.csv\")\n",
    "true = pd.read_csv(r\"/Users/erikkonstenius/Downloads/True.csv\")"
   ]
  },
  {
   "cell_type": "code",
   "execution_count": 3,
   "id": "33702e27",
   "metadata": {},
   "outputs": [
    {
     "name": "stdout",
     "output_type": "stream",
     "text": [
      "Example of fake news:\n",
      "Pope Francis used his annual Christmas Day message to rebuke Donald Trump without even mentioning his name. The Pope delivered his message just days after members of the United Nations condemned Trump s move to recognize Jerusalem as the capital of Israel. The Pontiff prayed on Monday for the  peace\n",
      "\n",
      "Over the last few weeks, I ve watched as the last shreds of the Republican Party s  family values  rotted away.As Alabama voters prepare to go to the polls in December they have two choices before them.They can vote for the Democrat and prove that they refuse to tolerate an accused child molester an\n",
      "\n",
      " White House Chief of Staff John Kelly is a Four Star Marine General who gave his son to this nation. That is why it was such a relief when he joined the Trump White House. Everyone thought he d bring order to a dangerously chaotic situation. However, as Donald Trump s attacks on Rep. Frederica Wils\n",
      "\n",
      "Donald Trump has recently come under fire for his most autocratic charge yet, which is that the free press should be regulated for writing bad things about him. He even mentioned somehow getting rid of their licenses.Fake @NBCNews made up a story that I wanted a \"tenfold\" increase in our U.S. nuclea\n",
      "\n",
      "You know all those times conservatives have said something ridiculous proves President Obama is gay or Michelle Obama is a man? Each time, they say they have  documents  to back their claims and each time they fail. By this logic, we can now state unequivocally that squeaky-voiced Jared Kushner is r\n"
     ]
    }
   ],
   "source": [
    "print(\"Example of fake news:\")\n",
    "print(fake[\"text\"][4][0:300])\n",
    "print(\"\")\n",
    "print(fake[\"text\"][65][0:300])\n",
    "print(\"\")\n",
    "print(fake[\"text\"][200][0:300])\n",
    "print(\"\")\n",
    "print(fake[\"text\"][220][0:300])\n",
    "print(\"\")\n",
    "print(fake[\"text\"][300][0:300])"
   ]
  },
  {
   "cell_type": "code",
   "execution_count": 4,
   "id": "e8ea0b6c",
   "metadata": {},
   "outputs": [
    {
     "name": "stdout",
     "output_type": "stream",
     "text": [
      "Example of true news\n",
      "SEATTLE/WASHINGTON (Reuters) - President Donald Trump called on the U.S. Postal Service on Friday to charge “much more” to ship packages for Amazon (AMZN.O), picking another fight with an online retail giant he has criticized in the past.     “Why is the United States Post Office, which is losing ma\n",
      "\n",
      "(Reuters) - Senator John Cornyn, the No. 2 Senate Republican, is trying to win support from the Midwest corn lobby for a broad legislative overhaul of the nation’s biofuels policy, according to sources familiar with the matter. The effort comes as President Donald Trump’s White House mediates talks \n",
      "\n",
      "WASHINGTON (Reuters) - The U.S. Congress will allow a deadline on reimposing sanctions on Iran to pass this week, congressional and White House aides said on Tuesday, leaving a pact between world powers and Tehran intact at least temporarily. In October, Trump declined to certify that Iran was compl\n",
      "\n",
      "WASHINGTON (Reuters) - The White House on Monday said the Justice Department was reviewing its options after a federal judge denied a request by President Donald Trump’s administration to enforce his ban on transgender troops while the government appeals an order blocking it. “The Department of Just\n",
      "\n",
      "(Reuters) - U.S. Senator Dick Durbin, the No. 2 Democrat in the Senate, said on Wednesday that fellow Democrat Al Franken should resign in light of sexual misconduct allegations against him. “Senator Franken’s behavior was wrong. He has admitted to what he did. He should resign from the Senate,” Dur\n"
     ]
    }
   ],
   "source": [
    "print(\"Example of true news\")\n",
    "print(true[\"text\"][4][0:300])\n",
    "print(\"\")\n",
    "print(true[\"text\"][65][0:300])\n",
    "print(\"\")\n",
    "print(true[\"text\"][200][0:300])\n",
    "print(\"\")\n",
    "print(true[\"text\"][220][0:300])\n",
    "print(\"\")\n",
    "print(true[\"text\"][300][0:300])"
   ]
  },
  {
   "cell_type": "markdown",
   "id": "b3547ff2",
   "metadata": {},
   "source": [
    "It appears as if the set of news articles that are considered true often start with the location and the newspaper that published the article. Let's investigate further how persistent this pattern is in the entire dataset."
   ]
  },
  {
   "cell_type": "code",
   "execution_count": 5,
   "id": "e730968a",
   "metadata": {
    "scrolled": true
   },
   "outputs": [
    {
     "data": {
      "text/plain": [
       "{'WASHINGTON (Reuters) -': 6443,\n",
       " 'NEW YORK (Reuters)': 726,\n",
       " 'LONDON (Reuters) -': 707,\n",
       " 'MOSCOW (Reuters) -': 624,\n",
       " 'BERLIN (Reuters) -': 503,\n",
       " 'BEIJING (Reuters) -': 437,\n",
       " 'BEIRUT (Reuters) -': 347,\n",
       " 'BRUSSELS (Reuters) -': 346,\n",
       " 'PARIS (Reuters) -': 301,\n",
       " 'ANKARA (Reuters) -': 246}"
      ]
     },
     "execution_count": 5,
     "metadata": {},
     "output_type": "execute_result"
    }
   ],
   "source": [
    "three_words = []\n",
    "for article in true[\"text\"]:\n",
    "    three_words.append(' '.join(article.split()[:3]))\n",
    "    \n",
    "dict_of_counts = {item:three_words.count(item) for item in three_words}\n",
    "dict_of_counts = dict(Counter(dict_of_counts).most_common(10))\n",
    "dict_of_counts # return the most frequent sequences of three words at the beginning of article"
   ]
  },
  {
   "cell_type": "markdown",
   "id": "ff5273d5",
   "metadata": {},
   "source": [
    "The above script return the 10 most frequent first three words across all true articles. The result shows that a large portion of all articles contain this kind of structure.\n",
    "\n",
    "\n",
    "I will remove the first three words if the word \"Reuters\" is present in the first three words. My motivation for this is that I want the model to predict whether it is fake or not based on the contents of the articles as opposed to how the two datasets are structured. I have also tried running the entire model when I included the locations and newspapers that publish the articles. It generated a near perfect accuracy. This indicated to me that there is something wrong with the used data."
   ]
  },
  {
   "cell_type": "code",
   "execution_count": 6,
   "id": "066a4715",
   "metadata": {},
   "outputs": [],
   "source": [
    "text = []\n",
    "for article in true[\"text\"]:\n",
    "    if \"Reuters\" in ' '.join(article.split()[:3]): # if \"Reuters\" exist in first three words\n",
    "        text.append(' '.join(article.split(' ')[3:])) # remove first three words and append \n",
    "    else:\n",
    "        text.append(article) # append the entire article if not contain \"Reuters\" in first three words"
   ]
  },
  {
   "cell_type": "code",
   "execution_count": 7,
   "id": "441b9650",
   "metadata": {},
   "outputs": [
    {
     "name": "stdout",
     "output_type": "stream",
     "text": [
      "Number of true articles in truncated data: 21417\n",
      "Number of true articles in original data: 21417\n"
     ]
    }
   ],
   "source": [
    "print(\"Number of true articles in truncated data: \" + str(len(text)))\n",
    "print(\"Number of true articles in original data: \" + str(len(true[\"text\"])))"
   ]
  },
  {
   "cell_type": "code",
   "execution_count": 8,
   "id": "3c320a6a",
   "metadata": {},
   "outputs": [
    {
     "name": "stdout",
     "output_type": "stream",
     "text": [
      "Original data with locations and publisher\n",
      "WASHINGTON (Reuters) - The U.S. Congress will allow a deadline on reimposing sanctions on Iran to pass this week, congressional and White House aides said on Tuesday, leaving a pact between world powers and Tehran intact at least temporarily. In October, Trump declined to certify that Iran was compl\n",
      "\n",
      "Example of truncated articles\n",
      "The U.S. Congress will allow a deadline on reimposing sanctions on Iran to pass this week, congressional and White House aides said on Tuesday, leaving a pact between world powers and Tehran intact at least temporarily. In October, Trump declined to certify that Iran was complying with the nuclear a\n"
     ]
    }
   ],
   "source": [
    "print(\"Original data with locations and publisher\")\n",
    "print(true[\"text\"][200][0:300])\n",
    "print(\"\")\n",
    "print(\"Example of truncated articles\")\n",
    "print(text[200][0:300])"
   ]
  },
  {
   "cell_type": "code",
   "execution_count": 9,
   "id": "b4d2019e",
   "metadata": {},
   "outputs": [],
   "source": [
    "# It seems to be convert it correctly. It is now ready to replace the original data\n",
    "true[\"text\"] = text"
   ]
  },
  {
   "cell_type": "code",
   "execution_count": 10,
   "id": "be355d15",
   "metadata": {
    "scrolled": true
   },
   "outputs": [],
   "source": [
    "fake['Fake news?']=0\n",
    "true['Fake news?']=1\n",
    "df = true.append(fake).reset_index(drop=True)"
   ]
  },
  {
   "cell_type": "code",
   "execution_count": 11,
   "id": "b9f3d603",
   "metadata": {},
   "outputs": [
    {
     "data": {
      "text/html": [
       "<div>\n",
       "<style scoped>\n",
       "    .dataframe tbody tr th:only-of-type {\n",
       "        vertical-align: middle;\n",
       "    }\n",
       "\n",
       "    .dataframe tbody tr th {\n",
       "        vertical-align: top;\n",
       "    }\n",
       "\n",
       "    .dataframe thead th {\n",
       "        text-align: right;\n",
       "    }\n",
       "</style>\n",
       "<table border=\"1\" class=\"dataframe\">\n",
       "  <thead>\n",
       "    <tr style=\"text-align: right;\">\n",
       "      <th></th>\n",
       "      <th>title</th>\n",
       "      <th>text</th>\n",
       "      <th>subject</th>\n",
       "      <th>date</th>\n",
       "      <th>Fake news?</th>\n",
       "    </tr>\n",
       "  </thead>\n",
       "  <tbody>\n",
       "    <tr>\n",
       "      <th>0</th>\n",
       "      <td>As U.S. budget fight looms, Republicans flip t...</td>\n",
       "      <td>The head of a conservative Republican faction ...</td>\n",
       "      <td>politicsNews</td>\n",
       "      <td>December 31, 2017</td>\n",
       "      <td>1</td>\n",
       "    </tr>\n",
       "    <tr>\n",
       "      <th>1</th>\n",
       "      <td>U.S. military to accept transgender recruits o...</td>\n",
       "      <td>Transgender people will be allowed for the fir...</td>\n",
       "      <td>politicsNews</td>\n",
       "      <td>December 29, 2017</td>\n",
       "      <td>1</td>\n",
       "    </tr>\n",
       "    <tr>\n",
       "      <th>2</th>\n",
       "      <td>Senior U.S. Republican senator: 'Let Mr. Muell...</td>\n",
       "      <td>The special counsel investigation of links bet...</td>\n",
       "      <td>politicsNews</td>\n",
       "      <td>December 31, 2017</td>\n",
       "      <td>1</td>\n",
       "    </tr>\n",
       "    <tr>\n",
       "      <th>3</th>\n",
       "      <td>FBI Russia probe helped by Australian diplomat...</td>\n",
       "      <td>Trump campaign adviser George Papadopoulos tol...</td>\n",
       "      <td>politicsNews</td>\n",
       "      <td>December 30, 2017</td>\n",
       "      <td>1</td>\n",
       "    </tr>\n",
       "    <tr>\n",
       "      <th>4</th>\n",
       "      <td>Trump wants Postal Service to charge 'much mor...</td>\n",
       "      <td>President Donald Trump called on the U.S. Post...</td>\n",
       "      <td>politicsNews</td>\n",
       "      <td>December 29, 2017</td>\n",
       "      <td>1</td>\n",
       "    </tr>\n",
       "  </tbody>\n",
       "</table>\n",
       "</div>"
      ],
      "text/plain": [
       "                                               title  \\\n",
       "0  As U.S. budget fight looms, Republicans flip t...   \n",
       "1  U.S. military to accept transgender recruits o...   \n",
       "2  Senior U.S. Republican senator: 'Let Mr. Muell...   \n",
       "3  FBI Russia probe helped by Australian diplomat...   \n",
       "4  Trump wants Postal Service to charge 'much mor...   \n",
       "\n",
       "                                                text       subject  \\\n",
       "0  The head of a conservative Republican faction ...  politicsNews   \n",
       "1  Transgender people will be allowed for the fir...  politicsNews   \n",
       "2  The special counsel investigation of links bet...  politicsNews   \n",
       "3  Trump campaign adviser George Papadopoulos tol...  politicsNews   \n",
       "4  President Donald Trump called on the U.S. Post...  politicsNews   \n",
       "\n",
       "                 date  Fake news?  \n",
       "0  December 31, 2017            1  \n",
       "1  December 29, 2017            1  \n",
       "2  December 31, 2017            1  \n",
       "3  December 30, 2017            1  \n",
       "4  December 29, 2017            1  "
      ]
     },
     "execution_count": 11,
     "metadata": {},
     "output_type": "execute_result"
    }
   ],
   "source": [
    "df.head()"
   ]
  },
  {
   "cell_type": "code",
   "execution_count": 12,
   "id": "a4848612",
   "metadata": {},
   "outputs": [
    {
     "data": {
      "text/html": [
       "<div>\n",
       "<style scoped>\n",
       "    .dataframe tbody tr th:only-of-type {\n",
       "        vertical-align: middle;\n",
       "    }\n",
       "\n",
       "    .dataframe tbody tr th {\n",
       "        vertical-align: top;\n",
       "    }\n",
       "\n",
       "    .dataframe thead th {\n",
       "        text-align: right;\n",
       "    }\n",
       "</style>\n",
       "<table border=\"1\" class=\"dataframe\">\n",
       "  <thead>\n",
       "    <tr style=\"text-align: right;\">\n",
       "      <th></th>\n",
       "      <th>title</th>\n",
       "      <th>text</th>\n",
       "      <th>subject</th>\n",
       "      <th>date</th>\n",
       "      <th>Fake news?</th>\n",
       "    </tr>\n",
       "  </thead>\n",
       "  <tbody>\n",
       "    <tr>\n",
       "      <th>44893</th>\n",
       "      <td>McPain: John McCain Furious That Iran Treated ...</td>\n",
       "      <td>21st Century Wire says As 21WIRE reported earl...</td>\n",
       "      <td>Middle-east</td>\n",
       "      <td>January 16, 2016</td>\n",
       "      <td>0</td>\n",
       "    </tr>\n",
       "    <tr>\n",
       "      <th>44894</th>\n",
       "      <td>JUSTICE? Yahoo Settles E-mail Privacy Class-ac...</td>\n",
       "      <td>21st Century Wire says It s a familiar theme. ...</td>\n",
       "      <td>Middle-east</td>\n",
       "      <td>January 16, 2016</td>\n",
       "      <td>0</td>\n",
       "    </tr>\n",
       "    <tr>\n",
       "      <th>44895</th>\n",
       "      <td>Sunnistan: US and Allied ‘Safe Zone’ Plan to T...</td>\n",
       "      <td>Patrick Henningsen  21st Century WireRemember ...</td>\n",
       "      <td>Middle-east</td>\n",
       "      <td>January 15, 2016</td>\n",
       "      <td>0</td>\n",
       "    </tr>\n",
       "    <tr>\n",
       "      <th>44896</th>\n",
       "      <td>How to Blow $700 Million: Al Jazeera America F...</td>\n",
       "      <td>21st Century Wire says Al Jazeera America will...</td>\n",
       "      <td>Middle-east</td>\n",
       "      <td>January 14, 2016</td>\n",
       "      <td>0</td>\n",
       "    </tr>\n",
       "    <tr>\n",
       "      <th>44897</th>\n",
       "      <td>10 U.S. Navy Sailors Held by Iranian Military ...</td>\n",
       "      <td>21st Century Wire says As 21WIRE predicted in ...</td>\n",
       "      <td>Middle-east</td>\n",
       "      <td>January 12, 2016</td>\n",
       "      <td>0</td>\n",
       "    </tr>\n",
       "  </tbody>\n",
       "</table>\n",
       "</div>"
      ],
      "text/plain": [
       "                                                   title  \\\n",
       "44893  McPain: John McCain Furious That Iran Treated ...   \n",
       "44894  JUSTICE? Yahoo Settles E-mail Privacy Class-ac...   \n",
       "44895  Sunnistan: US and Allied ‘Safe Zone’ Plan to T...   \n",
       "44896  How to Blow $700 Million: Al Jazeera America F...   \n",
       "44897  10 U.S. Navy Sailors Held by Iranian Military ...   \n",
       "\n",
       "                                                    text      subject  \\\n",
       "44893  21st Century Wire says As 21WIRE reported earl...  Middle-east   \n",
       "44894  21st Century Wire says It s a familiar theme. ...  Middle-east   \n",
       "44895  Patrick Henningsen  21st Century WireRemember ...  Middle-east   \n",
       "44896  21st Century Wire says Al Jazeera America will...  Middle-east   \n",
       "44897  21st Century Wire says As 21WIRE predicted in ...  Middle-east   \n",
       "\n",
       "                   date  Fake news?  \n",
       "44893  January 16, 2016           0  \n",
       "44894  January 16, 2016           0  \n",
       "44895  January 15, 2016           0  \n",
       "44896  January 14, 2016           0  \n",
       "44897  January 12, 2016           0  "
      ]
     },
     "execution_count": 12,
     "metadata": {},
     "output_type": "execute_result"
    }
   ],
   "source": [
    "df.tail()"
   ]
  },
  {
   "cell_type": "code",
   "execution_count": 13,
   "id": "dd4ac413",
   "metadata": {
    "scrolled": true
   },
   "outputs": [
    {
     "data": {
      "text/plain": [
       "title         object\n",
       "text          object\n",
       "subject       object\n",
       "date          object\n",
       "Fake news?     int64\n",
       "dtype: object"
      ]
     },
     "execution_count": 13,
     "metadata": {},
     "output_type": "execute_result"
    }
   ],
   "source": [
    "df.dtypes"
   ]
  },
  {
   "cell_type": "code",
   "execution_count": 14,
   "id": "a718af40",
   "metadata": {},
   "outputs": [
    {
     "data": {
      "text/plain": [
       "title         0\n",
       "text          0\n",
       "subject       0\n",
       "date          0\n",
       "Fake news?    0\n",
       "dtype: int64"
      ]
     },
     "execution_count": 14,
     "metadata": {},
     "output_type": "execute_result"
    }
   ],
   "source": [
    "df.isna().sum()"
   ]
  },
  {
   "cell_type": "code",
   "execution_count": 15,
   "id": "48658ac3",
   "metadata": {},
   "outputs": [],
   "source": [
    "# convert text to lower case\n",
    "df['text'] = df['text'].str.lower()"
   ]
  },
  {
   "cell_type": "code",
   "execution_count": 16,
   "id": "5f989ca7",
   "metadata": {},
   "outputs": [],
   "source": [
    "# remove stop words\n",
    "stop_words = stopwords.words('english')\n",
    "df['text'] = df['text'].apply(lambda x: ' '.join([word for word in x.split() if word not in (stop_words)]))"
   ]
  },
  {
   "cell_type": "code",
   "execution_count": 17,
   "id": "47506fd5",
   "metadata": {
    "scrolled": true
   },
   "outputs": [
    {
     "name": "stdout",
     "output_type": "stream",
     "text": [
      "head conservative republican faction u.s. congress, voted month huge expansion national debt pay tax cuts, called “fiscal conservative” sunday urged budget restraint 2018. keeping sharp pivot way among republicans, u.s. representative mark meadows, s\n"
     ]
    }
   ],
   "source": [
    "# Let's look at some sentences\n",
    "print(df['text'][0][0:250])"
   ]
  },
  {
   "cell_type": "code",
   "execution_count": 18,
   "id": "3cfb806d",
   "metadata": {
    "scrolled": true
   },
   "outputs": [],
   "source": [
    "texts = []\n",
    "for text in df['text']:\n",
    "    temp = re.sub('[^A-Za-z0-9-\" \"]+', '', text) #remove special characters\n",
    "    texts.append(re.sub(r'\\b\\w{1,2}\\b', '', temp)) #remove short words\n",
    "\n",
    "output = [word_tokenize(sentence) for sentence in texts]\n",
    "\n",
    "df[\"text\"] = output"
   ]
  },
  {
   "cell_type": "code",
   "execution_count": 19,
   "id": "3dd6c3b7",
   "metadata": {
    "scrolled": true
   },
   "outputs": [
    {
     "name": "stdout",
     "output_type": "stream",
     "text": [
      "['head', 'conservative', 'republican', 'faction', 'congress', 'voted', 'month', 'huge', 'expansion', 'national', 'debt', 'pay', 'tax', 'cuts', 'called', 'fiscal', 'conservative', 'sunday', 'urged', 'budget', 'restraint', '2018', 'keeping', 'sharp', 'pivot', 'way', 'among', 'republicans', 'representative', 'mark', 'meadows', 'speaking', 'cbs', 'face', 'nation', 'drew', 'hard', 'line', 'federal', 'spending', 'lawmakers', 'bracing', 'battle', 'january', 'return', 'holidays', 'wednesday', 'lawmakers', 'begin', 'trying', 'pass', 'federal', 'budget', 'fight', 'likely', 'linked', 'issues', 'immigration', 'policy', 'even', 'november', 'congressional', 'election', 'campaigns', 'approach', 'republicans', 'seek', 'keep', 'control', 'congress', 'president', 'donald', 'trump', 'republicans', 'want', 'big', 'budget', 'increase', 'military', 'spending', 'democrats', 'also', 'want', 'proportional', 'increases', 'non-defense', 'discretionary', 'spending', 'programs', 'support', 'education', 'scientific', 'research', 'infrastructure', 'public', 'health', 'environmental', 'protection', 'the', 'trump']\n"
     ]
    }
   ],
   "source": [
    "# Let's look at some sentences\n",
    "print(df['text'][0][0:100])"
   ]
  },
  {
   "cell_type": "code",
   "execution_count": 20,
   "id": "2c709d17",
   "metadata": {},
   "outputs": [],
   "source": [
    "word2vec = gensim.models.Word2Vec(sentences = df['text'], size = 100, window =5, min_count=1)"
   ]
  },
  {
   "cell_type": "code",
   "execution_count": 21,
   "id": "d12b7a9d",
   "metadata": {},
   "outputs": [
    {
     "data": {
      "text/plain": [
       "226461"
      ]
     },
     "execution_count": 21,
     "metadata": {},
     "output_type": "execute_result"
    }
   ],
   "source": [
    "len(word2vec.wv.vocab) "
   ]
  },
  {
   "cell_type": "code",
   "execution_count": 22,
   "id": "87d65c7f",
   "metadata": {},
   "outputs": [
    {
     "data": {
      "text/plain": [
       "[('president-elect', 0.7374012470245361),\n",
       " ('presidents', 0.699100911617279),\n",
       " ('presidency', 0.619046688079834),\n",
       " ('successor', 0.5715361833572388),\n",
       " ('pathetictrump', 0.5561524033546448),\n",
       " ('-soong', 0.544667661190033),\n",
       " ('versa', 0.5436614751815796),\n",
       " ('presidential', 0.5305578708648682),\n",
       " ('costwatchfeatured', 0.5217722654342651),\n",
       " ('baodong', 0.5087811946868896)]"
      ]
     },
     "execution_count": 22,
     "metadata": {},
     "output_type": "execute_result"
    }
   ],
   "source": [
    "word2vec.wv.most_similar(\"president\")"
   ]
  },
  {
   "cell_type": "code",
   "execution_count": 23,
   "id": "31b2479f",
   "metadata": {},
   "outputs": [],
   "source": [
    "# Tokenize text\n",
    "tokenizer = tf.keras.preprocessing.text.Tokenizer(num_words=1000) #returns ID for the top 1000 words\n",
    "tokenizer.fit_on_texts(df['text'])"
   ]
  },
  {
   "cell_type": "code",
   "execution_count": 24,
   "id": "84baa712",
   "metadata": {
    "scrolled": true
   },
   "outputs": [
    {
     "data": {
      "text/html": [
       "<div>\n",
       "<style scoped>\n",
       "    .dataframe tbody tr th:only-of-type {\n",
       "        vertical-align: middle;\n",
       "    }\n",
       "\n",
       "    .dataframe tbody tr th {\n",
       "        vertical-align: top;\n",
       "    }\n",
       "\n",
       "    .dataframe thead th {\n",
       "        text-align: right;\n",
       "    }\n",
       "</style>\n",
       "<table border=\"1\" class=\"dataframe\">\n",
       "  <thead>\n",
       "    <tr style=\"text-align: right;\">\n",
       "      <th></th>\n",
       "      <th>title</th>\n",
       "      <th>text</th>\n",
       "      <th>subject</th>\n",
       "      <th>date</th>\n",
       "      <th>Fake news?</th>\n",
       "    </tr>\n",
       "  </thead>\n",
       "  <tbody>\n",
       "    <tr>\n",
       "      <th>0</th>\n",
       "      <td>As U.S. budget fight looms, Republicans flip t...</td>\n",
       "      <td>[head, conservative, republican, faction, cong...</td>\n",
       "      <td>politicsNews</td>\n",
       "      <td>December 31, 2017</td>\n",
       "      <td>1</td>\n",
       "    </tr>\n",
       "    <tr>\n",
       "      <th>1</th>\n",
       "      <td>U.S. military to accept transgender recruits o...</td>\n",
       "      <td>[transgender, people, allowed, first, time, en...</td>\n",
       "      <td>politicsNews</td>\n",
       "      <td>December 29, 2017</td>\n",
       "      <td>1</td>\n",
       "    </tr>\n",
       "    <tr>\n",
       "      <th>2</th>\n",
       "      <td>Senior U.S. Republican senator: 'Let Mr. Muell...</td>\n",
       "      <td>[special, counsel, investigation, links, russi...</td>\n",
       "      <td>politicsNews</td>\n",
       "      <td>December 31, 2017</td>\n",
       "      <td>1</td>\n",
       "    </tr>\n",
       "    <tr>\n",
       "      <th>3</th>\n",
       "      <td>FBI Russia probe helped by Australian diplomat...</td>\n",
       "      <td>[trump, campaign, adviser, george, papadopoulo...</td>\n",
       "      <td>politicsNews</td>\n",
       "      <td>December 30, 2017</td>\n",
       "      <td>1</td>\n",
       "    </tr>\n",
       "    <tr>\n",
       "      <th>4</th>\n",
       "      <td>Trump wants Postal Service to charge 'much mor...</td>\n",
       "      <td>[president, donald, trump, called, postal, ser...</td>\n",
       "      <td>politicsNews</td>\n",
       "      <td>December 29, 2017</td>\n",
       "      <td>1</td>\n",
       "    </tr>\n",
       "  </tbody>\n",
       "</table>\n",
       "</div>"
      ],
      "text/plain": [
       "                                               title  \\\n",
       "0  As U.S. budget fight looms, Republicans flip t...   \n",
       "1  U.S. military to accept transgender recruits o...   \n",
       "2  Senior U.S. Republican senator: 'Let Mr. Muell...   \n",
       "3  FBI Russia probe helped by Australian diplomat...   \n",
       "4  Trump wants Postal Service to charge 'much mor...   \n",
       "\n",
       "                                                text       subject  \\\n",
       "0  [head, conservative, republican, faction, cong...  politicsNews   \n",
       "1  [transgender, people, allowed, first, time, en...  politicsNews   \n",
       "2  [special, counsel, investigation, links, russi...  politicsNews   \n",
       "3  [trump, campaign, adviser, george, papadopoulo...  politicsNews   \n",
       "4  [president, donald, trump, called, postal, ser...  politicsNews   \n",
       "\n",
       "                 date  Fake news?  \n",
       "0  December 31, 2017            1  \n",
       "1  December 29, 2017            1  \n",
       "2  December 31, 2017            1  \n",
       "3  December 30, 2017            1  \n",
       "4  December 29, 2017            1  "
      ]
     },
     "execution_count": 24,
     "metadata": {},
     "output_type": "execute_result"
    }
   ],
   "source": [
    "df.head()"
   ]
  },
  {
   "cell_type": "code",
   "execution_count": 25,
   "id": "becbeb49",
   "metadata": {},
   "outputs": [],
   "source": [
    "# Convert words to numbers\n",
    "df['text'] = tokenizer.texts_to_sequences(df['text'])"
   ]
  },
  {
   "cell_type": "code",
   "execution_count": 26,
   "id": "60d858a8",
   "metadata": {},
   "outputs": [
    {
     "data": {
      "text/html": [
       "<div>\n",
       "<style scoped>\n",
       "    .dataframe tbody tr th:only-of-type {\n",
       "        vertical-align: middle;\n",
       "    }\n",
       "\n",
       "    .dataframe tbody tr th {\n",
       "        vertical-align: top;\n",
       "    }\n",
       "\n",
       "    .dataframe thead th {\n",
       "        text-align: right;\n",
       "    }\n",
       "</style>\n",
       "<table border=\"1\" class=\"dataframe\">\n",
       "  <thead>\n",
       "    <tr style=\"text-align: right;\">\n",
       "      <th></th>\n",
       "      <th>title</th>\n",
       "      <th>text</th>\n",
       "      <th>subject</th>\n",
       "      <th>date</th>\n",
       "      <th>Fake news?</th>\n",
       "    </tr>\n",
       "  </thead>\n",
       "  <tbody>\n",
       "    <tr>\n",
       "      <th>0</th>\n",
       "      <td>As U.S. budget fight looms, Republicans flip t...</td>\n",
       "      <td>[311, 202, 16, 98, 647, 165, 42, 852, 335, 93,...</td>\n",
       "      <td>politicsNews</td>\n",
       "      <td>December 31, 2017</td>\n",
       "      <td>1</td>\n",
       "    </tr>\n",
       "    <tr>\n",
       "      <th>1</th>\n",
       "      <td>U.S. military to accept transgender recruits o...</td>\n",
       "      <td>[5, 584, 30, 26, 81, 113, 78, 1, 110, 4, 10, 7...</td>\n",
       "      <td>politicsNews</td>\n",
       "      <td>December 29, 2017</td>\n",
       "      <td>1</td>\n",
       "    </tr>\n",
       "    <tr>\n",
       "      <th>2</th>\n",
       "      <td>Senior U.S. Republican senator: 'Let Mr. Muell...</td>\n",
       "      <td>[373, 163, 66, 4, 73, 119, 27, 22, 328, 151, 3...</td>\n",
       "      <td>politicsNews</td>\n",
       "      <td>December 31, 2017</td>\n",
       "      <td>1</td>\n",
       "    </tr>\n",
       "    <tr>\n",
       "      <th>3</th>\n",
       "      <td>FBI Russia probe helped by Australian diplomat...</td>\n",
       "      <td>[2, 22, 715, 589, 18, 39, 119, 66, 41, 57, 55,...</td>\n",
       "      <td>politicsNews</td>\n",
       "      <td>December 30, 2017</td>\n",
       "      <td>1</td>\n",
       "    </tr>\n",
       "    <tr>\n",
       "      <th>4</th>\n",
       "      <td>Trump wants Postal Service to charge 'much mor...</td>\n",
       "      <td>[4, 10, 2, 80, 440, 110, 97, 732, 101, 389, 97...</td>\n",
       "      <td>politicsNews</td>\n",
       "      <td>December 29, 2017</td>\n",
       "      <td>1</td>\n",
       "    </tr>\n",
       "  </tbody>\n",
       "</table>\n",
       "</div>"
      ],
      "text/plain": [
       "                                               title  \\\n",
       "0  As U.S. budget fight looms, Republicans flip t...   \n",
       "1  U.S. military to accept transgender recruits o...   \n",
       "2  Senior U.S. Republican senator: 'Let Mr. Muell...   \n",
       "3  FBI Russia probe helped by Australian diplomat...   \n",
       "4  Trump wants Postal Service to charge 'much mor...   \n",
       "\n",
       "                                                text       subject  \\\n",
       "0  [311, 202, 16, 98, 647, 165, 42, 852, 335, 93,...  politicsNews   \n",
       "1  [5, 584, 30, 26, 81, 113, 78, 1, 110, 4, 10, 7...  politicsNews   \n",
       "2  [373, 163, 66, 4, 73, 119, 27, 22, 328, 151, 3...  politicsNews   \n",
       "3  [2, 22, 715, 589, 18, 39, 119, 66, 41, 57, 55,...  politicsNews   \n",
       "4  [4, 10, 2, 80, 440, 110, 97, 732, 101, 389, 97...  politicsNews   \n",
       "\n",
       "                 date  Fake news?  \n",
       "0  December 31, 2017            1  \n",
       "1  December 29, 2017            1  \n",
       "2  December 31, 2017            1  \n",
       "3  December 30, 2017            1  \n",
       "4  December 29, 2017            1  "
      ]
     },
     "execution_count": 26,
     "metadata": {},
     "output_type": "execute_result"
    }
   ],
   "source": [
    "df.head() # The text is now tokenized"
   ]
  },
  {
   "cell_type": "code",
   "execution_count": 27,
   "id": "e5a20d80",
   "metadata": {},
   "outputs": [
    {
     "name": "stdout",
     "output_type": "stream",
     "text": [
      "291\n",
      "180\n"
     ]
    }
   ],
   "source": [
    "# The text documents have different length\n",
    "print(len(df[\"text\"][0]))\n",
    "print(len(df[\"text\"][2]))"
   ]
  },
  {
   "cell_type": "code",
   "execution_count": 28,
   "id": "929dfdd5",
   "metadata": {},
   "outputs": [],
   "source": [
    "# To be able to run the model, the length of all vectors must be the same. I therefore documents to \n",
    "# the same length. This will be done in the following way.\n",
    "# All texts are converted to the length of the 99 th percentile - I.e 845 words. \n",
    "# Texts longer than the length of the 99 th percentile get truncated. \n",
    "# Texts shorter than the length of the 99 th percentile get padded with 0s\n",
    "# This method also removes outliers in terms of text length.\n",
    "\n",
    "documents = []\n",
    "for i in df[\"text\"]:\n",
    "    documents.append(i)\n",
    "\n",
    "max_length = int(np.percentile([len(x) for x in documents],99))\n",
    "word_index = tokenizer.word_index #enables conversion back to words"
   ]
  },
  {
   "cell_type": "code",
   "execution_count": 29,
   "id": "aa09e5d6",
   "metadata": {},
   "outputs": [],
   "source": [
    "documents = sequence.pad_sequences(documents, maxlen=max_length,padding='post')\n",
    "word_index = tokenizer.word_index #enables conversion back to words"
   ]
  },
  {
   "cell_type": "code",
   "execution_count": 30,
   "id": "cd751e6d",
   "metadata": {},
   "outputs": [
    {
     "name": "stderr",
     "output_type": "stream",
     "text": [
      "<ipython-input-30-63758b98cfe5>:3: DeprecationWarning: Call to deprecated `__getitem__` (Method will be removed in 4.0.0, use self.wv.__getitem__() instead).\n",
      "  weight_matrix[i] = word2vec[word]\n"
     ]
    }
   ],
   "source": [
    "weight_matrix = np.zeros((len(tokenizer.word_index)+1, 100))\n",
    "for word, i in word_index.items():\n",
    "    weight_matrix[i] = word2vec[word]"
   ]
  },
  {
   "cell_type": "code",
   "execution_count": 31,
   "id": "ce46c12e",
   "metadata": {
    "scrolled": true
   },
   "outputs": [
    {
     "name": "stdout",
     "output_type": "stream",
     "text": [
      "Number of words: 226462\n",
      "Number of vectors for each word: 100\n"
     ]
    }
   ],
   "source": [
    "print(\"Number of words: \" + str(len(weight_matrix))) \n",
    "print(\"Number of vectors for each word: \" + str(len(weight_matrix[0])))"
   ]
  },
  {
   "cell_type": "markdown",
   "id": "55b89f97",
   "metadata": {},
   "source": [
    "## Creating the LSTM model"
   ]
  },
  {
   "cell_type": "markdown",
   "id": "7ce43829",
   "metadata": {},
   "source": [
    "We will begin by creating an embedding layer so that we can capture similarities between words using our glove method."
   ]
  },
  {
   "cell_type": "markdown",
   "id": "dcc42676",
   "metadata": {},
   "source": [
    "The construction of the model is partially determined by the achieved accuracy but also by the high risk of the vanishing and exploding gradient problem. More layers would capture more complex relations but it would also risk causing the exploding gradient problem"
   ]
  },
  {
   "cell_type": "code",
   "execution_count": 32,
   "id": "6838cc4f",
   "metadata": {},
   "outputs": [],
   "source": [
    "model = Sequential()\n",
    "model.add(Embedding((len(word_index)+1), output_dim = 100, weights=[weight_matrix], trainable=False, input_length=max_length))\n",
    "model.add(Bidirectional(LSTM(units=64,return_sequences=True, dropout = 0.35)))\n",
    "model.add(Bidirectional(LSTM(units=32, dropout = 0.35)))\n",
    "model.add(Dense(1, activation='sigmoid'))"
   ]
  },
  {
   "cell_type": "markdown",
   "id": "51abf53a",
   "metadata": {},
   "source": [
    "# Training the model"
   ]
  },
  {
   "cell_type": "code",
   "execution_count": 33,
   "id": "b32a67a4",
   "metadata": {},
   "outputs": [],
   "source": [
    "X_train, X_test, y_train, y_test = train_test_split(documents, df[\"Fake news?\"], test_size=0.2, random_state=42)"
   ]
  },
  {
   "cell_type": "code",
   "execution_count": 34,
   "id": "da47081b",
   "metadata": {},
   "outputs": [],
   "source": [
    "# needs to be array for tensorflow's tensor conversion\n",
    "\n",
    "X_train = np.asarray(X_train).astype('int64')\n",
    "X_test = np.asarray(X_test).astype('int64')\n",
    "y_train = np.asarray(y_train).astype('int64').reshape((-1,1))\n",
    "y_test = np.asarray(y_test).astype('int64').reshape((-1,1))"
   ]
  },
  {
   "cell_type": "code",
   "execution_count": 35,
   "id": "5b1eb986",
   "metadata": {
    "scrolled": false
   },
   "outputs": [
    {
     "name": "stdout",
     "output_type": "stream",
     "text": [
      "35918\n",
      "8980\n",
      "35918\n",
      "8980\n"
     ]
    }
   ],
   "source": [
    "# Check that the conversion works as expected\n",
    "print(len(X_train))\n",
    "print(len(X_test))\n",
    "print(len(y_train))\n",
    "print(len(y_test))"
   ]
  },
  {
   "cell_type": "code",
   "execution_count": 36,
   "id": "0be4f0ba",
   "metadata": {
    "scrolled": false
   },
   "outputs": [
    {
     "name": "stdout",
     "output_type": "stream",
     "text": [
      "Model: \"sequential\"\n",
      "_________________________________________________________________\n",
      " Layer (type)                Output Shape              Param #   \n",
      "=================================================================\n",
      " embedding (Embedding)       (None, 429, 100)          22646200  \n",
      "                                                                 \n",
      " bidirectional (Bidirectiona  (None, 429, 128)         84480     \n",
      " l)                                                              \n",
      "                                                                 \n",
      " bidirectional_1 (Bidirectio  (None, 64)               41216     \n",
      " nal)                                                            \n",
      "                                                                 \n",
      " dense (Dense)               (None, 1)                 65        \n",
      "                                                                 \n",
      "=================================================================\n",
      "Total params: 22,771,961\n",
      "Trainable params: 125,761\n",
      "Non-trainable params: 22,646,200\n",
      "_________________________________________________________________\n"
     ]
    }
   ],
   "source": [
    "model.compile(loss='binary_crossentropy',optimizer=keras.optimizers.Adam(learning_rate = 0.01), metrics=['accuracy'])\n",
    "model.summary()"
   ]
  },
  {
   "cell_type": "code",
   "execution_count": 37,
   "id": "5a44eb91",
   "metadata": {},
   "outputs": [
    {
     "name": "stdout",
     "output_type": "stream",
     "text": [
      "Epoch 1/2\n",
      "449/449 [==============================] - 527s 1s/step - loss: 0.1544 - accuracy: 0.9416 - val_loss: 0.0664 - val_accuracy: 0.9784\n",
      "Epoch 2/2\n",
      "449/449 [==============================] - 517s 1s/step - loss: 0.0737 - accuracy: 0.9743 - val_loss: 0.0433 - val_accuracy: 0.9851\n"
     ]
    },
    {
     "name": "stderr",
     "output_type": "stream",
     "text": [
      "WARNING:absl:Found untraced functions such as lstm_cell_1_layer_call_fn, lstm_cell_1_layer_call_and_return_conditional_losses, lstm_cell_2_layer_call_fn, lstm_cell_2_layer_call_and_return_conditional_losses, lstm_cell_4_layer_call_fn while saving (showing 5 of 8). These functions will not be directly callable after loading.\n"
     ]
    },
    {
     "name": "stdout",
     "output_type": "stream",
     "text": [
      "INFO:tensorflow:Assets written to: LSTM_model/assets\n"
     ]
    },
    {
     "name": "stderr",
     "output_type": "stream",
     "text": [
      "INFO:tensorflow:Assets written to: LSTM_model/assets\n",
      "WARNING:absl:<keras.layers.recurrent.LSTMCell object at 0x7fb17e27ce20> has the same name 'LSTMCell' as a built-in Keras object. Consider renaming <class 'keras.layers.recurrent.LSTMCell'> to avoid naming conflicts when loading with `tf.keras.models.load_model`. If renaming is not possible, pass the object in the `custom_objects` parameter of the load function.\n",
      "WARNING:absl:<keras.layers.recurrent.LSTMCell object at 0x7fb17e3c4c10> has the same name 'LSTMCell' as a built-in Keras object. Consider renaming <class 'keras.layers.recurrent.LSTMCell'> to avoid naming conflicts when loading with `tf.keras.models.load_model`. If renaming is not possible, pass the object in the `custom_objects` parameter of the load function.\n",
      "WARNING:absl:<keras.layers.recurrent.LSTMCell object at 0x7fb16054a400> has the same name 'LSTMCell' as a built-in Keras object. Consider renaming <class 'keras.layers.recurrent.LSTMCell'> to avoid naming conflicts when loading with `tf.keras.models.load_model`. If renaming is not possible, pass the object in the `custom_objects` parameter of the load function.\n",
      "WARNING:absl:<keras.layers.recurrent.LSTMCell object at 0x7fb160530190> has the same name 'LSTMCell' as a built-in Keras object. Consider renaming <class 'keras.layers.recurrent.LSTMCell'> to avoid naming conflicts when loading with `tf.keras.models.load_model`. If renaming is not possible, pass the object in the `custom_objects` parameter of the load function.\n"
     ]
    }
   ],
   "source": [
    "model.fit(X_train, y_train, epochs=2, validation_split = 0.2, batch_size=64)\n",
    "model.save(\"LSTM_model\")"
   ]
  },
  {
   "cell_type": "markdown",
   "id": "3e04ee48",
   "metadata": {},
   "source": [
    "# Evaluating the model"
   ]
  },
  {
   "cell_type": "markdown",
   "id": "7f1fb647",
   "metadata": {},
   "source": [
    "#### Accuracy, precision, recall, f1-score"
   ]
  },
  {
   "cell_type": "code",
   "execution_count": 38,
   "id": "5e330dc4",
   "metadata": {},
   "outputs": [],
   "source": [
    "model = keras.models.load_model('LSTM_model')\n",
    "\n",
    "y_pred = (model.predict(X_test) > 0.5).astype(\"int64\")"
   ]
  },
  {
   "cell_type": "code",
   "execution_count": 39,
   "id": "4baabec0",
   "metadata": {},
   "outputs": [
    {
     "data": {
      "text/plain": [
       "0.9809576837416482"
      ]
     },
     "execution_count": 39,
     "metadata": {},
     "output_type": "execute_result"
    }
   ],
   "source": [
    "accuracy_score(y_test, y_pred)"
   ]
  },
  {
   "cell_type": "code",
   "execution_count": 40,
   "id": "e9c82b9a",
   "metadata": {
    "scrolled": true
   },
   "outputs": [
    {
     "name": "stdout",
     "output_type": "stream",
     "text": [
      "              precision    recall  f1-score   support\n",
      "\n",
      "           0       0.98      0.98      0.98      4650\n",
      "           1       0.98      0.98      0.98      4330\n",
      "\n",
      "    accuracy                           0.98      8980\n",
      "   macro avg       0.98      0.98      0.98      8980\n",
      "weighted avg       0.98      0.98      0.98      8980\n",
      "\n"
     ]
    }
   ],
   "source": [
    "from sklearn.metrics import classification_report\n",
    "print(classification_report(y_test, y_pred))"
   ]
  },
  {
   "cell_type": "markdown",
   "id": "abd4b932",
   "metadata": {},
   "source": [
    "#### Precision-Recall Curve"
   ]
  },
  {
   "cell_type": "code",
   "execution_count": 41,
   "id": "acf9c220",
   "metadata": {
    "scrolled": true
   },
   "outputs": [
    {
     "data": {
      "image/png": "[encoded data removed]",
      "text/plain": [
       "<Figure size 432x288 with 1 Axes>"
      ]
     },
     "metadata": {
      "needs_background": "light"
     },
     "output_type": "display_data"
    }
   ],
   "source": [
    "precision, recall, thresholds = precision_recall_curve(y_test, y_pred)\n",
    "\n",
    "fig, ax = plt.subplots()\n",
    "ax.plot(recall, precision, color='purple')\n",
    "ax.set_title('Precision-Recall Curve')\n",
    "ax.set_ylabel('Precision')\n",
    "ax.set_xlabel('Recall')\n",
    "plt.show()"
   ]
  },
  {
   "cell_type": "markdown",
   "id": "1627cd79",
   "metadata": {},
   "source": [
    "#### ROC Plot"
   ]
  },
  {
   "cell_type": "code",
   "execution_count": 42,
   "id": "92cb8153",
   "metadata": {},
   "outputs": [
    {
     "data": {
      "image/png": "[encoded data removed]",
      "text/plain": [
       "<Figure size 432x288 with 1 Axes>"
      ]
     },
     "metadata": {
      "needs_background": "light"
     },
     "output_type": "display_data"
    }
   ],
   "source": [
    "fpr, tpr, thresholds = roc_curve(y_test, y_pred)\n",
    "auc = auc(fpr, tpr)\n",
    "\n",
    "plt.figure(1)\n",
    "plt.plot([0, 1], [0, 1], 'k--')\n",
    "plt.plot(fpr, tpr, label='Bi-LSTM (area = {:.3f})'.format(auc))\n",
    "plt.xlabel('False positive rate')\n",
    "plt.ylabel('True positive rate')\n",
    "plt.title('ROC curve')\n",
    "plt.legend(loc='best')\n",
    "plt.show()"
   ]
  },
  {
   "cell_type": "markdown",
   "id": "f1d3c4b3",
   "metadata": {},
   "source": [
    "# Conclusion"
   ]
  },
  {
   "cell_type": "markdown",
   "id": "14a2a003",
   "metadata": {},
   "source": [
    "The model provided very good results on both the training data and the testing data. "
   ]
  }
 ],
 "metadata": {
  "kernelspec": {
   "display_name": "Python 3",
   "language": "python",
   "name": "python3"
  },
  "language_info": {
   "codemirror_mode": {
    "name": "ipython",
    "version": 3
   },
   "file_extension": ".py",
   "mimetype": "text/x-python",
   "name": "python",
   "nbconvert_exporter": "python",
   "pygments_lexer": "ipython3",
   "version": "3.8.8"
  }
 },
 "nbformat": 4,
 "nbformat_minor": 5
}
